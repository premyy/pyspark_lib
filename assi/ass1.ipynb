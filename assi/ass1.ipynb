{
 "cells": [
  {
   "cell_type": "code",
   "execution_count": 1,
   "id": "6f9671d4",
   "metadata": {},
   "outputs": [],
   "source": [
    "from pyspark.sql import SparkSession"
   ]
  },
  {
   "cell_type": "code",
   "execution_count": 2,
   "id": "de3740b7",
   "metadata": {},
   "outputs": [],
   "source": [
    "#create a sparksession\n",
    "spark=SparkSession.builder.appName('ass1').getOrCreate()"
   ]
  },
  {
   "cell_type": "markdown",
   "id": "a89b1a3a",
   "metadata": {},
   "source": [
    "## read dataset and create one pyspark dataframe."
   ]
  },
  {
   "cell_type": "code",
   "execution_count": 3,
   "id": "206b3303",
   "metadata": {},
   "outputs": [
    {
     "name": "stdout",
     "output_type": "stream",
     "text": [
      "+--------------------+-------------------+-----------+----------+-----------+-------------------+\n",
      "|            car_name|car_price_in_rupees| kms_driven| fuel_type|       city|year_of_manufacture|\n",
      "+--------------------+-------------------+-----------+----------+-----------+-------------------+\n",
      "|Hyundai Grand i10...|        ₹ 4.45 Lakh|  22,402 km|    Petrol|     Mumbai|               2016|\n",
      "|Maruti Suzuki Alt...|        ₹ 2.93 Lakh|  10,344 km|    Petrol|    Kolkata|               2019|\n",
      "|Tata Safari XZ Pl...|       ₹ 22.49 Lakh|  12,999 km|    Diesel|  Bangalore|               2021|\n",
      "|Maruti Suzuki Cia...|        ₹ 6.95 Lakh|  45,000 km|    Petrol|      Thane|               2016|\n",
      "|Jeep Compass Spor...|          ₹ 12 Lakh|  11,193 km|    Petrol|    Kolkata|               2019|\n",
      "|Maruti Suzuki Eec...|        ₹ 3.72 Lakh|  42,906 km|    Petrol|    Chennai|               2017|\n",
      "|Hyundai Creta SX ...|        ₹ 11.5 Lakh|  66,602 km|    Diesel|     Mumbai|               2017|\n",
      "|Maruti Suzuki Ert...|       ₹ 10.39 Lakh|  13,189 km|    Petrol|  Bangalore|               2019|\n",
      "| Toyota Etios Liva G|        ₹ 3.75 Lakh|  67,815 km|    Petrol|     Mumbai|               2013|\n",
      "|Renault Kwid 1.0 ...|        ₹ 4.25 Lakh|  19,509 km|    Petrol|     Mumbai|               2018|\n",
      "|Maruti Suzuki Cia...|        ₹ 6.75 Lakh|  60,000 km|    Diesel|  Ahmedabad|               2017|\n",
      "|Maruti Suzuki Alt...|        ₹ 4.49 Lakh|   3,583 km|    Petrol|  Bangalore|               2019|\n",
      "|Chevrolet Optra M...|           ₹ 3 Lakh|1,48,000 km|Diesel + 1|Pallikarnai|               2007|\n",
      "|Maruti Suzuki Vit...|         ₹ 9.5 Lakh|  48,748 km|    Diesel|  Hyderabad|               2019|\n",
      "|Jeep Compass Long...|       ₹ 13.25 Lakh|  38,000 km|    Diesel|      Thane|               2018|\n",
      "|Toyota Corolla Al...|        ₹ 9.25 Lakh|  36,000 km|    Petrol|    Kolkata|               2016|\n",
      "|Hyundai Elite i20...|        ₹ 6.75 Lakh|  13,747 km|    Petrol|  Ahmedabad|               2017|\n",
      "|Mercedes-Benz EQC...|          ₹ 95 Lakh|   3,200 km|  Electric|       Pune|               2022|\n",
      "|Ford EcoSport Tit...|        ₹ 8.71 Lakh|  12,795 km|    Petrol|    Chennai|               2018|\n",
      "|Hyundai i10 Magna...|        ₹ 3.35 Lakh|  41,273 km|    Petrol|     Mumbai|               2014|\n",
      "+--------------------+-------------------+-----------+----------+-----------+-------------------+\n",
      "only showing top 20 rows\n",
      "\n"
     ]
    }
   ],
   "source": [
    "#now create a dataframe and iport data into dataframe\n",
    "df=spark.read.csv(r\"C:\\Users\\prem\\Downloads\\used_car_dataset_467142.csv\", inferSchema=True, header=True)\n",
    "df.show()"
   ]
  },
  {
   "cell_type": "markdown",
   "id": "4c82d8a0",
   "metadata": {},
   "source": [
    "i Fatched data Successfully but we can see this is too much noise value here i'll have to clean this one."
   ]
  },
  {
   "cell_type": "markdown",
   "id": "0db8c16d",
   "metadata": {},
   "source": [
    "## Q3. Print the schema of the dataframe."
   ]
  },
  {
   "cell_type": "code",
   "execution_count": 4,
   "id": "7888f361",
   "metadata": {},
   "outputs": [
    {
     "name": "stdout",
     "output_type": "stream",
     "text": [
      "root\n",
      " |-- car_name: string (nullable = true)\n",
      " |-- car_price_in_rupees: string (nullable = true)\n",
      " |-- kms_driven: string (nullable = true)\n",
      " |-- fuel_type: string (nullable = true)\n",
      " |-- city: string (nullable = true)\n",
      " |-- year_of_manufacture: integer (nullable = true)\n",
      "\n"
     ]
    }
   ],
   "source": [
    "#let's check data type\n",
    "df.printSchema()"
   ]
  },
  {
   "cell_type": "markdown",
   "id": "baab46b9",
   "metadata": {},
   "source": [
    "every column data type has string because of noise value i'll have to remove these noise value after that i can convert data type"
   ]
  },
  {
   "cell_type": "markdown",
   "id": "72b3497c",
   "metadata": {},
   "source": [
    "## Q4. find the shape of the dataframe."
   ]
  },
  {
   "cell_type": "code",
   "execution_count": 10,
   "id": "0539fff3",
   "metadata": {},
   "outputs": [
    {
     "name": "stdout",
     "output_type": "stream",
     "text": [
      "Shape:(2105, 6)\n"
     ]
    }
   ],
   "source": [
    "#let's find the shape of this dataset\n",
    "print(f\"Shape:{df.count(), len(df.columns)}\")"
   ]
  },
  {
   "cell_type": "markdown",
   "id": "bc021624",
   "metadata": {},
   "source": [
    "There are 2105 Rows and 6 Columns"
   ]
  },
  {
   "cell_type": "markdown",
   "id": "85911333",
   "metadata": {},
   "source": [
    "## Q5. Print the 5 number summery of the dataframe."
   ]
  },
  {
   "cell_type": "code",
   "execution_count": 12,
   "id": "0c42e529",
   "metadata": {},
   "outputs": [
    {
     "name": "stdout",
     "output_type": "stream",
     "text": [
      "+-------+--------------------+-------------------+-----------+----------+-----------+-------------------+\n",
      "|summary|            car_name|car_price_in_rupees| kms_driven| fuel_type|       city|year_of_manufacture|\n",
      "+-------+--------------------+-------------------+-----------+----------+-----------+-------------------+\n",
      "|  count|                2105|               2105|       2105|      2105|       2105|               2105|\n",
      "|   mean|                null|               null|       null|      null|       null| 2017.0228028503564|\n",
      "| stddev|                null|               null|       null|      null|       null| 2.8180658246405534|\n",
      "|    min|Audi A3 35 TDI Pr...|         ₹ 1.1 Lakh|1,00,000 km|       CNG|  Ahmedabad|               2004|\n",
      "|    max|   Volvo XC90 D5 AWD|           ₹ 99,991|  99,941 km|Petrol + 1|Thiruvallur|               2022|\n",
      "+-------+--------------------+-------------------+-----------+----------+-----------+-------------------+\n",
      "\n"
     ]
    }
   ],
   "source": [
    "#for 5 Number Summery \n",
    "df.describe().show()"
   ]
  },
  {
   "cell_type": "markdown",
   "id": "b15cf457",
   "metadata": {},
   "source": [
    "1. Now here we can see every column count value is 2105 means there are non Null value\n",
    "2. And kms_driven and fuel_type, car_price_in_rupees column data type is string that's why we can get every details;\n",
    "3. but in the year_of_manufacture column we can notic that the min year was 2004 and latest year is 2022."
   ]
  },
  {
   "cell_type": "markdown",
   "id": "4bc5b0a6",
   "metadata": {},
   "source": [
    "## Q6. Print the name of all columns. "
   ]
  },
  {
   "cell_type": "code",
   "execution_count": 13,
   "id": "1ad1c75d",
   "metadata": {},
   "outputs": [
    {
     "data": {
      "text/plain": [
       "['car_name',\n",
       " 'car_price_in_rupees',\n",
       " 'kms_driven',\n",
       " 'fuel_type',\n",
       " 'city',\n",
       " 'year_of_manufacture']"
      ]
     },
     "execution_count": 13,
     "metadata": {},
     "output_type": "execute_result"
    }
   ],
   "source": [
    "df.columns #this is the columns name list"
   ]
  },
  {
   "cell_type": "markdown",
   "id": "e6480428",
   "metadata": {},
   "source": [
    "## Q7. Print all the card having city = Mumbai and year_of_manufacture = 2016."
   ]
  },
  {
   "cell_type": "code",
   "execution_count": 15,
   "id": "7839b399",
   "metadata": {},
   "outputs": [
    {
     "name": "stdout",
     "output_type": "stream",
     "text": [
      "+--------------------+-------------------+----------+---------+------+-------------------+\n",
      "|            car_name|car_price_in_rupees|kms_driven|fuel_type|  city|year_of_manufacture|\n",
      "+--------------------+-------------------+----------+---------+------+-------------------+\n",
      "|Hyundai Grand i10...|        ₹ 4.45 Lakh| 22,402 km|   Petrol|Mumbai|               2016|\n",
      "|Volkswagen Vento ...|        ₹ 6.51 Lakh| 53,094 km|   Petrol|Mumbai|               2016|\n",
      "|Ford Endeavour Ti...|       ₹ 24.75 Lakh| 83,000 km|   Diesel|Mumbai|               2016|\n",
      "|       Honda City VX|        ₹ 7.45 Lakh| 42,218 km|   Petrol|Mumbai|               2016|\n",
      "|Volkswagen Vento ...|        ₹ 7.25 Lakh| 45,689 km|   Petrol|Mumbai|               2016|\n",
      "|Maruti Suzuki Cel...|        ₹ 4.45 Lakh| 24,595 km|   Petrol|Mumbai|               2016|\n",
      "|Hyundai Creta 1.6...|        ₹ 7.45 Lakh| 62,461 km|   Petrol|Mumbai|               2016|\n",
      "|Mercedes-Benz CLA...|       ₹ 19.25 Lakh| 34,000 km|   Petrol|Mumbai|               2016|\n",
      "|   Honda City VX CVT|        ₹ 7.95 Lakh| 33,613 km|   Petrol|Mumbai|               2016|\n",
      "|Hyundai Creta SX ...|        ₹ 9.11 Lakh| 45,000 km|   Petrol|Mumbai|               2016|\n",
      "|Ford EcoSport Tit...|        ₹ 6.85 Lakh| 48,504 km|   Petrol|Mumbai|               2016|\n",
      "|Hyundai Elantra S...|        ₹ 10.9 Lakh| 71,395 km|   Petrol|Mumbai|               2016|\n",
      "|Hyundai Elite i20...|        ₹ 4.95 Lakh| 21,344 km|   Petrol|Mumbai|               2016|\n",
      "|Honda BR-V V CVT ...|        ₹ 7.75 Lakh| 76,275 km|   Petrol|Mumbai|               2016|\n",
      "| Honda Jazz V Petrol|         ₹ 5.3 Lakh| 41,217 km|   Petrol|Mumbai|               2016|\n",
      "|Honda Amaze 1.2 V...|           ₹ 5 Lakh| 46,000 km|   Petrol|Mumbai|               2016|\n",
      "|Maruti Suzuki Cia...|         ₹ 6.4 Lakh| 36,937 km|   Petrol|Mumbai|               2016|\n",
      "|Honda BR-V V CVT ...|        ₹ 7.95 Lakh| 61,280 km|   Petrol|Mumbai|               2016|\n",
      "|Maruti Suzuki Cel...|        ₹ 4.45 Lakh| 48,549 km|   Petrol|Mumbai|               2016|\n",
      "|Mahindra XUV500 W...|        ₹ 9.75 Lakh| 87,820 km|   Diesel|Mumbai|               2016|\n",
      "+--------------------+-------------------+----------+---------+------+-------------------+\n",
      "only showing top 20 rows\n",
      "\n"
     ]
    }
   ],
   "source": [
    "df.filter((df['city']=='Mumbai') & (df['year_of_manufacture']==2016)).show()"
   ]
  },
  {
   "cell_type": "markdown",
   "id": "77c18a73",
   "metadata": {},
   "source": [
    "## Q8. Find all the cars of Maruti Suzuki."
   ]
  },
  {
   "cell_type": "code",
   "execution_count": 18,
   "id": "6545f42b",
   "metadata": {},
   "outputs": [
    {
     "name": "stdout",
     "output_type": "stream",
     "text": [
      "+--------------------+-------------------+----------+---------+---------+-------------------+\n",
      "|            car_name|car_price_in_rupees|kms_driven|fuel_type|     city|year_of_manufacture|\n",
      "+--------------------+-------------------+----------+---------+---------+-------------------+\n",
      "|Maruti Suzuki Alt...|        ₹ 2.93 Lakh| 10,344 km|   Petrol|  Kolkata|               2019|\n",
      "|Maruti Suzuki Cia...|        ₹ 6.95 Lakh| 45,000 km|   Petrol|    Thane|               2016|\n",
      "|Maruti Suzuki Eec...|        ₹ 3.72 Lakh| 42,906 km|   Petrol|  Chennai|               2017|\n",
      "|Maruti Suzuki Ert...|       ₹ 10.39 Lakh| 13,189 km|   Petrol|Bangalore|               2019|\n",
      "|Maruti Suzuki Cia...|        ₹ 6.75 Lakh| 60,000 km|   Diesel|Ahmedabad|               2017|\n",
      "|Maruti Suzuki Alt...|        ₹ 4.49 Lakh|  3,583 km|   Petrol|Bangalore|               2019|\n",
      "|Maruti Suzuki Vit...|         ₹ 9.5 Lakh| 48,748 km|   Diesel|Hyderabad|               2019|\n",
      "|Maruti Suzuki Cia...|         ₹ 9.9 Lakh|  7,755 km|   Petrol|   Mumbai|               2020|\n",
      "|Maruti Suzuki Bal...|        ₹ 6.39 Lakh| 34,559 km|   Petrol|    Delhi|               2017|\n",
      "|Maruti Suzuki Wag...|        ₹ 3.92 Lakh| 42,247 km|   Petrol|  Kolkata|               2018|\n",
      "|Maruti Suzuki Swi...|        ₹ 7.75 Lakh| 69,000 km|   Diesel|Hyderabad|               2019|\n",
      "|Maruti Suzuki Cia...|         ₹ 8.5 Lakh| 56,255 km|   Petrol|Ahmedabad|               2019|\n",
      "|Maruti Suzuki Alt...|        ₹ 4.15 Lakh| 19,970 km|      CNG|Bangalore|               2021|\n",
      "|Maruti Suzuki Swi...|        ₹ 7.85 Lakh| 32,853 km|   Diesel|    Thane|               2018|\n",
      "|Maruti Suzuki Swi...|        ₹ 4.85 Lakh| 62,000 km|   Petrol|    Thane|               2014|\n",
      "|Maruti Suzuki Wag...|        ₹ 4.35 Lakh| 73,500 km|      CNG|    Thane|               2017|\n",
      "|Maruti Suzuki Wag...|        ₹ 4.51 Lakh| 74,076 km|      CNG|     Pune|               2017|\n",
      "|Maruti Suzuki Wag...|        ₹ 6.81 Lakh| 22,158 km|      CNG|     Pune|               2021|\n",
      "|Maruti Suzuki S-P...|         ₹ 4.2 Lakh| 17,472 km|   Petrol|    Delhi|               2020|\n",
      "|Maruti Suzuki Wag...|        ₹ 4.41 Lakh| 66,882 km|      CNG|     Pune|               2017|\n",
      "+--------------------+-------------------+----------+---------+---------+-------------------+\n",
      "only showing top 20 rows\n",
      "\n"
     ]
    }
   ],
   "source": [
    "df.filter(df['car_name'].contains('Maruti Suzuki')).show()"
   ]
  },
  {
   "cell_type": "markdown",
   "id": "e7a096f7",
   "metadata": {},
   "source": [
    "i used Contains Function."
   ]
  },
  {
   "cell_type": "markdown",
   "id": "ee04f489",
   "metadata": {},
   "source": [
    "## Q9. Crate new column which will contain age of the car."
   ]
  },
  {
   "cell_type": "code",
   "execution_count": 23,
   "id": "2c7fc3bd",
   "metadata": {},
   "outputs": [],
   "source": [
    "#Now i'll have to create a function which will contain age of the car\n",
    "df=df.withColumn('age', (2023-df['year_of_manufacture']))"
   ]
  },
  {
   "cell_type": "code",
   "execution_count": 24,
   "id": "cedd4a29",
   "metadata": {},
   "outputs": [
    {
     "name": "stdout",
     "output_type": "stream",
     "text": [
      "+--------------------+-------------------+-----------+----------+-----------+-------------------+---+\n",
      "|            car_name|car_price_in_rupees| kms_driven| fuel_type|       city|year_of_manufacture|age|\n",
      "+--------------------+-------------------+-----------+----------+-----------+-------------------+---+\n",
      "|Hyundai Grand i10...|        ₹ 4.45 Lakh|  22,402 km|    Petrol|     Mumbai|               2016|  7|\n",
      "|Maruti Suzuki Alt...|        ₹ 2.93 Lakh|  10,344 km|    Petrol|    Kolkata|               2019|  4|\n",
      "|Tata Safari XZ Pl...|       ₹ 22.49 Lakh|  12,999 km|    Diesel|  Bangalore|               2021|  2|\n",
      "|Maruti Suzuki Cia...|        ₹ 6.95 Lakh|  45,000 km|    Petrol|      Thane|               2016|  7|\n",
      "|Jeep Compass Spor...|          ₹ 12 Lakh|  11,193 km|    Petrol|    Kolkata|               2019|  4|\n",
      "|Maruti Suzuki Eec...|        ₹ 3.72 Lakh|  42,906 km|    Petrol|    Chennai|               2017|  6|\n",
      "|Hyundai Creta SX ...|        ₹ 11.5 Lakh|  66,602 km|    Diesel|     Mumbai|               2017|  6|\n",
      "|Maruti Suzuki Ert...|       ₹ 10.39 Lakh|  13,189 km|    Petrol|  Bangalore|               2019|  4|\n",
      "| Toyota Etios Liva G|        ₹ 3.75 Lakh|  67,815 km|    Petrol|     Mumbai|               2013| 10|\n",
      "|Renault Kwid 1.0 ...|        ₹ 4.25 Lakh|  19,509 km|    Petrol|     Mumbai|               2018|  5|\n",
      "|Maruti Suzuki Cia...|        ₹ 6.75 Lakh|  60,000 km|    Diesel|  Ahmedabad|               2017|  6|\n",
      "|Maruti Suzuki Alt...|        ₹ 4.49 Lakh|   3,583 km|    Petrol|  Bangalore|               2019|  4|\n",
      "|Chevrolet Optra M...|           ₹ 3 Lakh|1,48,000 km|Diesel + 1|Pallikarnai|               2007| 16|\n",
      "|Maruti Suzuki Vit...|         ₹ 9.5 Lakh|  48,748 km|    Diesel|  Hyderabad|               2019|  4|\n",
      "|Jeep Compass Long...|       ₹ 13.25 Lakh|  38,000 km|    Diesel|      Thane|               2018|  5|\n",
      "|Toyota Corolla Al...|        ₹ 9.25 Lakh|  36,000 km|    Petrol|    Kolkata|               2016|  7|\n",
      "|Hyundai Elite i20...|        ₹ 6.75 Lakh|  13,747 km|    Petrol|  Ahmedabad|               2017|  6|\n",
      "|Mercedes-Benz EQC...|          ₹ 95 Lakh|   3,200 km|  Electric|       Pune|               2022|  1|\n",
      "|Ford EcoSport Tit...|        ₹ 8.71 Lakh|  12,795 km|    Petrol|    Chennai|               2018|  5|\n",
      "|Hyundai i10 Magna...|        ₹ 3.35 Lakh|  41,273 km|    Petrol|     Mumbai|               2014|  9|\n",
      "+--------------------+-------------------+-----------+----------+-----------+-------------------+---+\n",
      "only showing top 20 rows\n",
      "\n"
     ]
    }
   ],
   "source": [
    "df.show()"
   ]
  },
  {
   "cell_type": "markdown",
   "id": "e9401a35",
   "metadata": {},
   "source": [
    "## Q10. find the top 5 old car of Toyota company. Just print the car name and year."
   ]
  },
  {
   "cell_type": "code",
   "execution_count": 29,
   "id": "777bd350",
   "metadata": {},
   "outputs": [
    {
     "name": "stdout",
     "output_type": "stream",
     "text": [
      "+--------------------+-------------------+\n",
      "|            car_name|year_of_manufacture|\n",
      "+--------------------+-------------------+\n",
      "|Toyota Corolla H2...|               2004|\n",
      "|Toyota Corolla H2...|               2005|\n",
      "|Toyota Innova 2.5...|               2009|\n",
      "|Toyota Innova 2.5 G2|               2009|\n",
      "|Toyota Corolla Al...|               2010|\n",
      "+--------------------+-------------------+\n",
      "only showing top 5 rows\n",
      "\n"
     ]
    }
   ],
   "source": [
    "df.filter(df['car_name'].contains('Toyota')).sort('age', ascending=False).select('car_name', 'year_of_manufacture').show(5)"
   ]
  },
  {
   "cell_type": "markdown",
   "id": "9f0e65cf",
   "metadata": {},
   "source": [
    "These are the top 5 old car of toyota company."
   ]
  },
  {
   "cell_type": "markdown",
   "id": "059d23e9",
   "metadata": {},
   "source": [
    "## Q11. Find the cars those have Petrol as fuel_Type and city can be Noida or Delhi."
   ]
  },
  {
   "cell_type": "code",
   "execution_count": 30,
   "id": "2e162c43",
   "metadata": {},
   "outputs": [
    {
     "name": "stdout",
     "output_type": "stream",
     "text": [
      "+--------------------+-------------------+----------+---------+-----+-------------------+---+\n",
      "|            car_name|car_price_in_rupees|kms_driven|fuel_type| city|year_of_manufacture|age|\n",
      "+--------------------+-------------------+----------+---------+-----+-------------------+---+\n",
      "|Maruti Suzuki Bal...|        ₹ 6.39 Lakh| 34,559 km|   Petrol|Delhi|               2017|  6|\n",
      "|  Tata Nexon XZ Plus|       ₹ 11.52 Lakh| 10,422 km|   Petrol|Delhi|               2021|  2|\n",
      "| Hyundai Xcent S 1.2|        ₹ 3.95 Lakh| 62,568 km|   Petrol|Noida|               2014|  9|\n",
      "|Maruti Suzuki S-P...|         ₹ 4.2 Lakh| 17,472 km|   Petrol|Delhi|               2020|  3|\n",
      "|Hyundai Grand i10...|        ₹ 4.14 Lakh| 74,938 km|   Petrol|Delhi|               2016|  7|\n",
      "| Honda City 1.5 S MT|        ₹ 2.85 Lakh| 82,000 km|   Petrol|Noida|               2009| 14|\n",
      "|Maruti Suzuki Bal...|        ₹ 6.29 Lakh| 26,603 km|   Petrol|Delhi|               2019|  4|\n",
      "|Maruti Suzuki Bal...|        ₹ 5.45 Lakh| 61,518 km|   Petrol|Noida|               2017|  6|\n",
      "|Maruti Suzuki S-P...|        ₹ 4.76 Lakh|     65 km|   Petrol|Delhi|               2021|  2|\n",
      "|Hyundai Grand i10...|        ₹ 4.09 Lakh| 68,446 km|   Petrol|Delhi|               2016|  7|\n",
      "|Hyundai Verna Flu...|        ₹ 3.91 Lakh| 84,344 km|   Petrol|Delhi|               2013| 10|\n",
      "|Maruti Suzuki Swi...|         ₹ 3.4 Lakh| 69,551 km|   Petrol|Delhi|               2013| 10|\n",
      "|Maruti Suzuki Swi...|        ₹ 6.33 Lakh| 28,899 km|   Petrol|Delhi|               2018|  5|\n",
      "|Hyundai Grand i10...|        ₹ 3.85 Lakh| 43,000 km|   Petrol|Noida|               2014|  9|\n",
      "|Hyundai Elite i20...|        ₹ 6.87 Lakh| 41,055 km|   Petrol|Delhi|               2019|  4|\n",
      "|Renault Kwid 1.0 ...|        ₹ 3.04 Lakh| 53,728 km|   Petrol|Delhi|               2018|  5|\n",
      "|Tata Tiago JTP 1....|        ₹ 4.16 Lakh| 63,130 km|   Petrol|Delhi|               2018|  5|\n",
      "|Renault Kwid RXT ...|        ₹ 3.31 Lakh| 32,954 km|   Petrol|Delhi|               2018|  5|\n",
      "|Honda City VX CVT...|       ₹ 12.04 Lakh| 26,230 km|   Petrol|Delhi|               2020|  3|\n",
      "| Honda Jazz V Petrol|        ₹ 4.62 Lakh| 37,993 km|   Petrol|Delhi|               2015|  8|\n",
      "+--------------------+-------------------+----------+---------+-----+-------------------+---+\n",
      "only showing top 20 rows\n",
      "\n"
     ]
    }
   ],
   "source": [
    "df.filter((df['fuel_Type'].contains('Petrol'))&(df['city'].isin('Noida', 'Delhi'))).show()"
   ]
  },
  {
   "cell_type": "markdown",
   "id": "6c7d4aa6",
   "metadata": {},
   "source": [
    "## Q12. Find all the card those not are not belongs to fuel_Type of Diesel."
   ]
  },
  {
   "cell_type": "code",
   "execution_count": 31,
   "id": "363de747",
   "metadata": {},
   "outputs": [
    {
     "name": "stdout",
     "output_type": "stream",
     "text": [
      "+--------------------+-------------------+-----------+----------+-----------+-------------------+---+\n",
      "|            car_name|car_price_in_rupees| kms_driven| fuel_type|       city|year_of_manufacture|age|\n",
      "+--------------------+-------------------+-----------+----------+-----------+-------------------+---+\n",
      "|Hyundai Grand i10...|        ₹ 4.45 Lakh|  22,402 km|    Petrol|     Mumbai|               2016|  7|\n",
      "|Maruti Suzuki Alt...|        ₹ 2.93 Lakh|  10,344 km|    Petrol|    Kolkata|               2019|  4|\n",
      "|Maruti Suzuki Cia...|        ₹ 6.95 Lakh|  45,000 km|    Petrol|      Thane|               2016|  7|\n",
      "|Jeep Compass Spor...|          ₹ 12 Lakh|  11,193 km|    Petrol|    Kolkata|               2019|  4|\n",
      "|Maruti Suzuki Eec...|        ₹ 3.72 Lakh|  42,906 km|    Petrol|    Chennai|               2017|  6|\n",
      "|Maruti Suzuki Ert...|       ₹ 10.39 Lakh|  13,189 km|    Petrol|  Bangalore|               2019|  4|\n",
      "| Toyota Etios Liva G|        ₹ 3.75 Lakh|  67,815 km|    Petrol|     Mumbai|               2013| 10|\n",
      "|Renault Kwid 1.0 ...|        ₹ 4.25 Lakh|  19,509 km|    Petrol|     Mumbai|               2018|  5|\n",
      "|Maruti Suzuki Alt...|        ₹ 4.49 Lakh|   3,583 km|    Petrol|  Bangalore|               2019|  4|\n",
      "|Chevrolet Optra M...|           ₹ 3 Lakh|1,48,000 km|Diesel + 1|Pallikarnai|               2007| 16|\n",
      "|Toyota Corolla Al...|        ₹ 9.25 Lakh|  36,000 km|    Petrol|    Kolkata|               2016|  7|\n",
      "|Hyundai Elite i20...|        ₹ 6.75 Lakh|  13,747 km|    Petrol|  Ahmedabad|               2017|  6|\n",
      "|Mercedes-Benz EQC...|          ₹ 95 Lakh|   3,200 km|  Electric|       Pune|               2022|  1|\n",
      "|Ford EcoSport Tit...|        ₹ 8.71 Lakh|  12,795 km|    Petrol|    Chennai|               2018|  5|\n",
      "|Hyundai i10 Magna...|        ₹ 3.35 Lakh|  41,273 km|    Petrol|     Mumbai|               2014|  9|\n",
      "|Hyundai Creta 1.6...|        ₹ 9.88 Lakh|  20,142 km|    Petrol|       Pune|               2016|  7|\n",
      "| Porsche 718 Boxster|       ₹ 1.15 Crore|   6,500 km|    Petrol|       Pune|               2020|  3|\n",
      "|Maruti Suzuki Cia...|         ₹ 9.9 Lakh|   7,755 km|    Petrol|     Mumbai|               2020|  3|\n",
      "|Renault Kwid 1.0 ...|        ₹ 3.45 Lakh|  33,513 km|    Petrol|    Gurgaon|               2019|  4|\n",
      "|Maruti Suzuki Bal...|        ₹ 6.39 Lakh|  34,559 km|    Petrol|      Delhi|               2017|  6|\n",
      "+--------------------+-------------------+-----------+----------+-----------+-------------------+---+\n",
      "only showing top 20 rows\n",
      "\n"
     ]
    }
   ],
   "source": [
    "df.filter(df['fuel_Type'] != 'Diesel').show()"
   ]
  },
  {
   "cell_type": "markdown",
   "id": "d7ef7333",
   "metadata": {},
   "source": [
    "when i'm using this approch then i got some Diesel result also so i used anothe one approch."
   ]
  },
  {
   "cell_type": "code",
   "execution_count": 32,
   "id": "bdab91c9",
   "metadata": {},
   "outputs": [
    {
     "name": "stdout",
     "output_type": "stream",
     "text": [
      "+--------------------+-------------------+----------+---------+---------+-------------------+---+\n",
      "|            car_name|car_price_in_rupees|kms_driven|fuel_type|     city|year_of_manufacture|age|\n",
      "+--------------------+-------------------+----------+---------+---------+-------------------+---+\n",
      "|Hyundai Grand i10...|        ₹ 4.45 Lakh| 22,402 km|   Petrol|   Mumbai|               2016|  7|\n",
      "|Maruti Suzuki Alt...|        ₹ 2.93 Lakh| 10,344 km|   Petrol|  Kolkata|               2019|  4|\n",
      "|Maruti Suzuki Cia...|        ₹ 6.95 Lakh| 45,000 km|   Petrol|    Thane|               2016|  7|\n",
      "|Jeep Compass Spor...|          ₹ 12 Lakh| 11,193 km|   Petrol|  Kolkata|               2019|  4|\n",
      "|Maruti Suzuki Eec...|        ₹ 3.72 Lakh| 42,906 km|   Petrol|  Chennai|               2017|  6|\n",
      "|Maruti Suzuki Ert...|       ₹ 10.39 Lakh| 13,189 km|   Petrol|Bangalore|               2019|  4|\n",
      "| Toyota Etios Liva G|        ₹ 3.75 Lakh| 67,815 km|   Petrol|   Mumbai|               2013| 10|\n",
      "|Renault Kwid 1.0 ...|        ₹ 4.25 Lakh| 19,509 km|   Petrol|   Mumbai|               2018|  5|\n",
      "|Maruti Suzuki Alt...|        ₹ 4.49 Lakh|  3,583 km|   Petrol|Bangalore|               2019|  4|\n",
      "|Toyota Corolla Al...|        ₹ 9.25 Lakh| 36,000 km|   Petrol|  Kolkata|               2016|  7|\n",
      "|Hyundai Elite i20...|        ₹ 6.75 Lakh| 13,747 km|   Petrol|Ahmedabad|               2017|  6|\n",
      "|Mercedes-Benz EQC...|          ₹ 95 Lakh|  3,200 km| Electric|     Pune|               2022|  1|\n",
      "|Ford EcoSport Tit...|        ₹ 8.71 Lakh| 12,795 km|   Petrol|  Chennai|               2018|  5|\n",
      "|Hyundai i10 Magna...|        ₹ 3.35 Lakh| 41,273 km|   Petrol|   Mumbai|               2014|  9|\n",
      "|Hyundai Creta 1.6...|        ₹ 9.88 Lakh| 20,142 km|   Petrol|     Pune|               2016|  7|\n",
      "| Porsche 718 Boxster|       ₹ 1.15 Crore|  6,500 km|   Petrol|     Pune|               2020|  3|\n",
      "|Maruti Suzuki Cia...|         ₹ 9.9 Lakh|  7,755 km|   Petrol|   Mumbai|               2020|  3|\n",
      "|Renault Kwid 1.0 ...|        ₹ 3.45 Lakh| 33,513 km|   Petrol|  Gurgaon|               2019|  4|\n",
      "|Maruti Suzuki Bal...|        ₹ 6.39 Lakh| 34,559 km|   Petrol|    Delhi|               2017|  6|\n",
      "|Hyundai i20 Sport...|         ₹ 8.9 Lakh|  4,000 km|   Petrol|Ahmedabad|               2022|  1|\n",
      "+--------------------+-------------------+----------+---------+---------+-------------------+---+\n",
      "only showing top 20 rows\n",
      "\n"
     ]
    }
   ],
   "source": [
    "df.filter(~(df['fuel_Type'].contains('Diesel'))).show()"
   ]
  },
  {
   "cell_type": "code",
   "execution_count": null,
   "id": "e1a7624c",
   "metadata": {},
   "outputs": [],
   "source": []
  },
  {
   "cell_type": "code",
   "execution_count": null,
   "id": "a2ac770f",
   "metadata": {},
   "outputs": [],
   "source": []
  },
  {
   "cell_type": "code",
   "execution_count": null,
   "id": "4d1a2e1f",
   "metadata": {},
   "outputs": [],
   "source": []
  },
  {
   "cell_type": "code",
   "execution_count": null,
   "id": "dccd8598",
   "metadata": {},
   "outputs": [],
   "source": []
  },
  {
   "cell_type": "code",
   "execution_count": null,
   "id": "a65be4d6",
   "metadata": {},
   "outputs": [],
   "source": []
  },
  {
   "cell_type": "code",
   "execution_count": null,
   "id": "28af82e5",
   "metadata": {},
   "outputs": [],
   "source": []
  },
  {
   "cell_type": "code",
   "execution_count": null,
   "id": "fd5a36bc",
   "metadata": {},
   "outputs": [],
   "source": []
  },
  {
   "cell_type": "code",
   "execution_count": null,
   "id": "9f2f93c5",
   "metadata": {},
   "outputs": [],
   "source": []
  },
  {
   "cell_type": "code",
   "execution_count": null,
   "id": "782e0b33",
   "metadata": {},
   "outputs": [],
   "source": []
  },
  {
   "cell_type": "code",
   "execution_count": null,
   "id": "f32d020c",
   "metadata": {},
   "outputs": [],
   "source": []
  },
  {
   "cell_type": "code",
   "execution_count": null,
   "id": "f299e19f",
   "metadata": {},
   "outputs": [],
   "source": []
  }
 ],
 "metadata": {
  "kernelspec": {
   "display_name": "Python 3",
   "language": "python",
   "name": "python3"
  },
  "language_info": {
   "codemirror_mode": {
    "name": "ipython",
    "version": 3
   },
   "file_extension": ".py",
   "mimetype": "text/x-python",
   "name": "python",
   "nbconvert_exporter": "python",
   "pygments_lexer": "ipython3",
   "version": "3.8.8"
  }
 },
 "nbformat": 4,
 "nbformat_minor": 5
}
